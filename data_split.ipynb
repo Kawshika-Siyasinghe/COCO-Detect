{
 "cells": [
  {
   "cell_type": "code",
   "execution_count": null,
   "id": "9d29fad1",
   "metadata": {},
   "outputs": [],
   "source": []
  },
  {
   "cell_type": "code",
   "execution_count": 2,
   "id": "5a28e067",
   "metadata": {},
   "outputs": [],
   "source": [
    "import splitfolders"
   ]
  },
  {
   "cell_type": "code",
   "execution_count": 3,
   "id": "d38d1cc5",
   "metadata": {},
   "outputs": [],
   "source": [
    "input_folder = 'D:/Tasks/Coconut/Finalized Data Set'"
   ]
  },
  {
   "cell_type": "code",
   "execution_count": 4,
   "id": "2561ba60",
   "metadata": {
    "scrolled": false
   },
   "outputs": [
    {
     "name": "stderr",
     "output_type": "stream",
     "text": [
      "Copying files: 1256 files [03:22,  6.20 files/s]\n"
     ]
    }
   ],
   "source": [
    "splitfolders.ratio(input_folder, output='D:/Tasks/Coconut/dataset', \n",
    "                   seed=42, ratio=(.8, .2), \n",
    "                   group_prefix=None) \n"
   ]
  },
  {
   "cell_type": "code",
   "execution_count": null,
   "id": "9a4e0cf7",
   "metadata": {},
   "outputs": [],
   "source": []
  }
 ],
 "metadata": {
  "kernelspec": {
   "display_name": "Python 3 (ipykernel)",
   "language": "python",
   "name": "python3"
  },
  "language_info": {
   "codemirror_mode": {
    "name": "ipython",
    "version": 3
   },
   "file_extension": ".py",
   "mimetype": "text/x-python",
   "name": "python",
   "nbconvert_exporter": "python",
   "pygments_lexer": "ipython3",
   "version": "3.10.9"
  },
  "varInspector": {
   "cols": {
    "lenName": 16,
    "lenType": 16,
    "lenVar": 40
   },
   "kernels_config": {
    "python": {
     "delete_cmd_postfix": "",
     "delete_cmd_prefix": "del ",
     "library": "var_list.py",
     "varRefreshCmd": "print(var_dic_list())"
    },
    "r": {
     "delete_cmd_postfix": ") ",
     "delete_cmd_prefix": "rm(",
     "library": "var_list.r",
     "varRefreshCmd": "cat(var_dic_list()) "
    }
   },
   "types_to_exclude": [
    "module",
    "function",
    "builtin_function_or_method",
    "instance",
    "_Feature"
   ],
   "window_display": false
  }
 },
 "nbformat": 4,
 "nbformat_minor": 5
}
